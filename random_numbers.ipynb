{
 "cells": [
  {
   "cell_type": "code",
   "execution_count": 1,
   "id": "bd94598d-f1e2-4a75-8df2-7b1adb0d6067",
   "metadata": {},
   "outputs": [],
   "source": [
    "# Import the random module.\n",
    "import random"
   ]
  },
  {
   "cell_type": "code",
   "execution_count": 5,
   "id": "e2bc5ac5-8297-4306-bef2-993937b205c3",
   "metadata": {},
   "outputs": [
    {
     "data": {
      "text/plain": [
       "-56"
      ]
     },
     "execution_count": 5,
     "metadata": {},
     "output_type": "execute_result"
    }
   ],
   "source": [
    "random.randint(-90, 90)"
   ]
  },
  {
   "cell_type": "code",
   "execution_count": 7,
   "id": "42cadc7b-8f30-4230-8ac3-4cccf0727e64",
   "metadata": {},
   "outputs": [
    {
     "data": {
      "text/plain": [
       "0.5277663455008373"
      ]
     },
     "execution_count": 7,
     "metadata": {},
     "output_type": "execute_result"
    }
   ],
   "source": [
    "random.random()"
   ]
  },
  {
   "cell_type": "code",
   "execution_count": 8,
   "id": "44c2787e-e16f-417f-8e66-836c1f40a968",
   "metadata": {},
   "outputs": [
    {
     "data": {
      "text/plain": [
       "82.1063442647293"
      ]
     },
     "execution_count": 8,
     "metadata": {},
     "output_type": "execute_result"
    }
   ],
   "source": [
    "random_number = random.randint(-90, 89) + random.random()\n",
    "random_number"
   ]
  },
  {
   "cell_type": "code",
   "execution_count": 9,
   "id": "75407724-0fda-487f-9a8e-f5afca9566c3",
   "metadata": {},
   "outputs": [],
   "source": [
    "x = 1\n",
    "\n",
    "latitudes =[]\n",
    "\n",
    "while x < 11:\n",
    "    random_lat = random.randint(-90, 89) + random.random()\n",
    "    latitudes.append(random_lat)\n",
    "    \n",
    "    x += 1"
   ]
  },
  {
   "cell_type": "code",
   "execution_count": 14,
   "id": "d7235be9-059d-432e-b4f7-7b09d54c47c2",
   "metadata": {},
   "outputs": [
    {
     "data": {
      "text/plain": [
       "[-51.79140983681595,\n",
       " 46.35269072027105,\n",
       " 39.693513147135036,\n",
       " -37.00372869111307,\n",
       " 68.34095233104684,\n",
       " 1.6208844442297576,\n",
       " 51.898469837666134,\n",
       " 5.16148377725047,\n",
       " 45.56836653446383,\n",
       " -7.834585709831026]"
      ]
     },
     "execution_count": 14,
     "metadata": {},
     "output_type": "execute_result"
    }
   ],
   "source": [
    "latitudes"
   ]
  },
  {
   "cell_type": "code",
   "execution_count": 15,
   "id": "1570b2fa-6fa4-4a98-9c0d-22789419b354",
   "metadata": {},
   "outputs": [
    {
     "data": {
      "text/plain": [
       "58"
      ]
     },
     "execution_count": 15,
     "metadata": {},
     "output_type": "execute_result"
    }
   ],
   "source": [
    "random.randrange(-90, 90, step=1)"
   ]
  },
  {
   "cell_type": "code",
   "execution_count": 16,
   "id": "2cb657ce-01c6-4c56-971f-8eae9677d68e",
   "metadata": {},
   "outputs": [
    {
     "data": {
      "text/plain": [
       "-84"
      ]
     },
     "execution_count": 16,
     "metadata": {},
     "output_type": "execute_result"
    }
   ],
   "source": [
    "random.randrange(-90, 90, step=3)"
   ]
  },
  {
   "cell_type": "code",
   "execution_count": 17,
   "id": "e5f617b4-ee88-4e01-966e-d697f100452b",
   "metadata": {},
   "outputs": [
    {
     "data": {
      "text/plain": [
       "-51.10897346845707"
      ]
     },
     "execution_count": 17,
     "metadata": {},
     "output_type": "execute_result"
    }
   ],
   "source": [
    " random.uniform(-90, 90)"
   ]
  },
  {
   "cell_type": "code",
   "execution_count": 18,
   "id": "67d166ce-fefb-4224-8cc5-6dbe078c78b1",
   "metadata": {},
   "outputs": [],
   "source": [
    "# Import the NumPy module.\n",
    "import numpy as np"
   ]
  },
  {
   "cell_type": "code",
   "execution_count": 19,
   "id": "97aaa3a9-315a-45f9-8d6f-3dd9012e0035",
   "metadata": {},
   "outputs": [
    {
     "data": {
      "text/plain": [
       "-4.402183578830332"
      ]
     },
     "execution_count": 19,
     "metadata": {},
     "output_type": "execute_result"
    }
   ],
   "source": [
    "np.random.uniform(-90.000, 90.000)"
   ]
  },
  {
   "cell_type": "code",
   "execution_count": 20,
   "id": "b4f56968-955d-45f5-bed8-f44cc7b61ad3",
   "metadata": {},
   "outputs": [
    {
     "data": {
      "text/plain": [
       "array([ 41.85945537,  86.23940306,  34.72796379, -85.65190257,\n",
       "        45.34009581,  48.40981977,  -4.27729063,  26.63348668,\n",
       "        41.92385989,  28.93690226, -40.63175821, -22.20485075,\n",
       "       -30.22288192,  36.1091    , -13.97535152, -46.80240972,\n",
       "       -34.44088762,  61.19747098,  42.59370043,  22.24051252,\n",
       "        -3.19958586,  31.98430403, -86.62951119,  79.16397736,\n",
       "         6.54839189,  -1.37540856,  50.17510556,  87.24252817,\n",
       "        89.99946902, -14.34143927, -46.7286588 , -36.1460319 ,\n",
       "        13.03266279, -25.2211489 ,  41.30576858, -38.247231  ,\n",
       "        56.63806494,  46.81926439, -44.39362596, -43.50860605,\n",
       "        40.9110894 ,  76.10820244,  -3.34732032, -84.43323648,\n",
       "        20.11269118, -75.92913586,  67.6496487 ,   2.85606748,\n",
       "       -52.49009153, -71.42181754])"
      ]
     },
     "execution_count": 20,
     "metadata": {},
     "output_type": "execute_result"
    }
   ],
   "source": [
    "np.random.uniform(-90.000, 90.000, size=50)"
   ]
  },
  {
   "cell_type": "code",
   "execution_count": 21,
   "id": "0aa1c4a2-da8f-4b5c-b16d-d705d7fa84d4",
   "metadata": {},
   "outputs": [],
   "source": [
    "# Import timeit.\n",
    "import timeit"
   ]
  },
  {
   "cell_type": "code",
   "execution_count": 22,
   "id": "031b60ad-436c-4897-b150-827e01d411da",
   "metadata": {},
   "outputs": [
    {
     "name": "stdout",
     "output_type": "stream",
     "text": [
      "14.8 µs ± 487 ns per loop (mean ± std. dev. of 7 runs, 100000 loops each)\n"
     ]
    }
   ],
   "source": [
    "%timeit np.random.uniform(-90.000, 90.000, size=1500)"
   ]
  },
  {
   "cell_type": "code",
   "execution_count": 23,
   "id": "c77d5556-a00f-4820-b29a-63ded04728c0",
   "metadata": {},
   "outputs": [
    {
     "name": "stdout",
     "output_type": "stream",
     "text": [
      "1.89 ms ± 55.5 µs per loop (mean ± std. dev. of 7 runs, 100 loops each)\n"
     ]
    }
   ],
   "source": [
    "def latitudes(size):\n",
    "    latitudes = []\n",
    "    x = 0\n",
    "    while x < (size):\n",
    "        random_lat = random.randint(-90, 90) + random.random()\n",
    "        latitudes.append(random_lat)\n",
    "        x += 1\n",
    "    return latitudes\n",
    "# Call the function with 1500.\n",
    "%timeit latitudes(1500)\n"
   ]
  },
  {
   "cell_type": "code",
   "execution_count": 24,
   "id": "b7ebb689-3922-450e-8560-8022c5a645fc",
   "metadata": {},
   "outputs": [
    {
     "ename": "ModuleNotFoundError",
     "evalue": "No module named 'citipy'",
     "output_type": "error",
     "traceback": [
      "\u001b[0;31m---------------------------------------------------------------------------\u001b[0m",
      "\u001b[0;31mModuleNotFoundError\u001b[0m                       Traceback (most recent call last)",
      "\u001b[0;32m/var/folders/cj/zz232_0n7fs68wkhc929h_980000gn/T/ipykernel_22857/1328133173.py\u001b[0m in \u001b[0;36m<module>\u001b[0;34m\u001b[0m\n\u001b[1;32m      1\u001b[0m \u001b[0;31m# Use the citipy module to determine city based on latitude and longitude.\u001b[0m\u001b[0;34m\u001b[0m\u001b[0;34m\u001b[0m\u001b[0;34m\u001b[0m\u001b[0m\n\u001b[0;32m----> 2\u001b[0;31m \u001b[0;32mfrom\u001b[0m \u001b[0mcitipy\u001b[0m \u001b[0;32mimport\u001b[0m \u001b[0mcitipy\u001b[0m\u001b[0;34m\u001b[0m\u001b[0;34m\u001b[0m\u001b[0m\n\u001b[0m",
      "\u001b[0;31mModuleNotFoundError\u001b[0m: No module named 'citipy'"
     ]
    }
   ],
   "source": []
  },
  {
   "cell_type": "code",
   "execution_count": null,
   "id": "048dcb2e-eebf-4f4d-ac61-69c42a53642b",
   "metadata": {},
   "outputs": [],
   "source": []
  }
 ],
 "metadata": {
  "kernelspec": {
   "display_name": "PythonData",
   "language": "python",
   "name": "pythondata"
  },
  "language_info": {
   "codemirror_mode": {
    "name": "ipython",
    "version": 3
   },
   "file_extension": ".py",
   "mimetype": "text/x-python",
   "name": "python",
   "nbconvert_exporter": "python",
   "pygments_lexer": "ipython3",
   "version": "3.7.13"
  }
 },
 "nbformat": 4,
 "nbformat_minor": 5
}
