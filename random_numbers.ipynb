{
 "cells": [
  {
   "cell_type": "code",
   "execution_count": 1,
   "id": "bd94598d-f1e2-4a75-8df2-7b1adb0d6067",
   "metadata": {},
   "outputs": [],
   "source": [
    "# Import the random module.\n",
    "import random"
   ]
  },
  {
   "cell_type": "code",
   "execution_count": 2,
   "id": "e2bc5ac5-8297-4306-bef2-993937b205c3",
   "metadata": {},
   "outputs": [
    {
     "data": {
      "text/plain": [
       "-40"
      ]
     },
     "execution_count": 2,
     "metadata": {},
     "output_type": "execute_result"
    }
   ],
   "source": [
    "random.randint(-90, 90)"
   ]
  },
  {
   "cell_type": "code",
   "execution_count": 3,
   "id": "42cadc7b-8f30-4230-8ac3-4cccf0727e64",
   "metadata": {},
   "outputs": [
    {
     "data": {
      "text/plain": [
       "0.2651917540113502"
      ]
     },
     "execution_count": 3,
     "metadata": {},
     "output_type": "execute_result"
    }
   ],
   "source": [
    "random.random()"
   ]
  },
  {
   "cell_type": "code",
   "execution_count": 4,
   "id": "44c2787e-e16f-417f-8e66-836c1f40a968",
   "metadata": {},
   "outputs": [
    {
     "data": {
      "text/plain": [
       "41.610413425635315"
      ]
     },
     "execution_count": 4,
     "metadata": {},
     "output_type": "execute_result"
    }
   ],
   "source": [
    "random_number = random.randint(-90, 89) + random.random()\n",
    "random_number"
   ]
  },
  {
   "cell_type": "code",
   "execution_count": 5,
   "id": "75407724-0fda-487f-9a8e-f5afca9566c3",
   "metadata": {},
   "outputs": [],
   "source": [
    "x = 1\n",
    "\n",
    "latitudes =[]\n",
    "\n",
    "while x < 11:\n",
    "    random_lat = random.randint(-90, 89) + random.random()\n",
    "    latitudes.append(random_lat)\n",
    "    \n",
    "    x += 1"
   ]
  },
  {
   "cell_type": "code",
   "execution_count": 6,
   "id": "d7235be9-059d-432e-b4f7-7b09d54c47c2",
   "metadata": {},
   "outputs": [
    {
     "data": {
      "text/plain": [
       "[82.36623152496023,\n",
       " 51.97976162926651,\n",
       " -44.45210758314429,\n",
       " 23.17745722960487,\n",
       " -84.04541156632783,\n",
       " 6.746598269675751,\n",
       " -30.554380908074144,\n",
       " 38.79203250028415,\n",
       " -6.4318853913558245,\n",
       " -4.4201902461346645]"
      ]
     },
     "execution_count": 6,
     "metadata": {},
     "output_type": "execute_result"
    }
   ],
   "source": [
    "latitudes"
   ]
  },
  {
   "cell_type": "code",
   "execution_count": 7,
   "id": "1570b2fa-6fa4-4a98-9c0d-22789419b354",
   "metadata": {},
   "outputs": [
    {
     "data": {
      "text/plain": [
       "25"
      ]
     },
     "execution_count": 7,
     "metadata": {},
     "output_type": "execute_result"
    }
   ],
   "source": [
    "random.randrange(-90, 90, step=1)"
   ]
  },
  {
   "cell_type": "code",
   "execution_count": 8,
   "id": "2cb657ce-01c6-4c56-971f-8eae9677d68e",
   "metadata": {},
   "outputs": [
    {
     "data": {
      "text/plain": [
       "-60"
      ]
     },
     "execution_count": 8,
     "metadata": {},
     "output_type": "execute_result"
    }
   ],
   "source": [
    "random.randrange(-90, 90, step=3)"
   ]
  },
  {
   "cell_type": "code",
   "execution_count": 9,
   "id": "e5f617b4-ee88-4e01-966e-d697f100452b",
   "metadata": {},
   "outputs": [
    {
     "data": {
      "text/plain": [
       "21.771591328365034"
      ]
     },
     "execution_count": 9,
     "metadata": {},
     "output_type": "execute_result"
    }
   ],
   "source": [
    " random.uniform(-90, 90)"
   ]
  },
  {
   "cell_type": "code",
   "execution_count": 10,
   "id": "67d166ce-fefb-4224-8cc5-6dbe078c78b1",
   "metadata": {},
   "outputs": [],
   "source": [
    "# Import the NumPy module.\n",
    "import numpy as np"
   ]
  },
  {
   "cell_type": "code",
   "execution_count": 11,
   "id": "97aaa3a9-315a-45f9-8d6f-3dd9012e0035",
   "metadata": {},
   "outputs": [
    {
     "data": {
      "text/plain": [
       "16.222491413391978"
      ]
     },
     "execution_count": 11,
     "metadata": {},
     "output_type": "execute_result"
    }
   ],
   "source": [
    "np.random.uniform(-90.000, 90.000)"
   ]
  },
  {
   "cell_type": "code",
   "execution_count": 12,
   "id": "b4f56968-955d-45f5-bed8-f44cc7b61ad3",
   "metadata": {},
   "outputs": [
    {
     "data": {
      "text/plain": [
       "array([ 52.01214511,  57.44648681,  54.34246941,  70.87097178,\n",
       "        83.32519634,  17.944441  , -70.13522157, -49.51000333,\n",
       "       -24.61493634, -22.6262266 ,  69.70837724,  25.12654899,\n",
       "       -87.99058741, -63.78742008,  52.64023171, -28.89797818,\n",
       "        48.08747283,  39.4859854 ,  14.93507343,  17.50010781,\n",
       "        49.98304763, -40.03505914, -68.93206507,  74.65095497,\n",
       "        -2.65184069, -38.5011699 ,  32.40987455, -45.25813493,\n",
       "        46.25187775, -60.34940379,  49.62861446, -33.93465845,\n",
       "        86.06909437, -42.36304887,  -4.31325772,  24.45862342,\n",
       "       -78.68514292,  51.76050142, -70.45187739, -41.71150172,\n",
       "        36.42060858,  56.09483587, -82.02121101, -60.40145747,\n",
       "        48.94810755,  70.01601211,  69.84045248, -15.21159602,\n",
       "        10.16185042, -78.69990915])"
      ]
     },
     "execution_count": 12,
     "metadata": {},
     "output_type": "execute_result"
    }
   ],
   "source": [
    "np.random.uniform(-90.000, 90.000, size=50)"
   ]
  },
  {
   "cell_type": "code",
   "execution_count": 13,
   "id": "0aa1c4a2-da8f-4b5c-b16d-d705d7fa84d4",
   "metadata": {},
   "outputs": [],
   "source": [
    "# Import timeit.\n",
    "import timeit"
   ]
  },
  {
   "cell_type": "code",
   "execution_count": 14,
   "id": "031b60ad-436c-4897-b150-827e01d411da",
   "metadata": {},
   "outputs": [
    {
     "name": "stdout",
     "output_type": "stream",
     "text": [
      "16 µs ± 454 ns per loop (mean ± std. dev. of 7 runs, 100000 loops each)\n"
     ]
    }
   ],
   "source": [
    "%timeit np.random.uniform(-90.000, 90.000, size=1500)"
   ]
  },
  {
   "cell_type": "code",
   "execution_count": 15,
   "id": "c77d5556-a00f-4820-b29a-63ded04728c0",
   "metadata": {},
   "outputs": [
    {
     "name": "stdout",
     "output_type": "stream",
     "text": [
      "2.02 ms ± 33.8 µs per loop (mean ± std. dev. of 7 runs, 100 loops each)\n"
     ]
    }
   ],
   "source": [
    "def latitudes(size):\n",
    "    latitudes = []\n",
    "    x = 0\n",
    "    while x < (size):\n",
    "        random_lat = random.randint(-90, 90) + random.random()\n",
    "        latitudes.append(random_lat)\n",
    "        x += 1\n",
    "    return latitudes\n",
    "# Call the function with 1500.\n",
    "%timeit latitudes(1500)\n"
   ]
  },
  {
   "cell_type": "code",
   "execution_count": null,
   "id": "b7ebb689-3922-450e-8560-8022c5a645fc",
   "metadata": {},
   "outputs": [],
   "source": [
    "print()"
   ]
  },
  {
   "cell_type": "code",
   "execution_count": null,
   "id": "048dcb2e-eebf-4f4d-ac61-69c42a53642b",
   "metadata": {},
   "outputs": [],
   "source": []
  }
 ],
 "metadata": {
  "kernelspec": {
   "display_name": "PythonData",
   "language": "python",
   "name": "pythondata"
  },
  "language_info": {
   "codemirror_mode": {
    "name": "ipython",
    "version": 3
   },
   "file_extension": ".py",
   "mimetype": "text/x-python",
   "name": "python",
   "nbconvert_exporter": "python",
   "pygments_lexer": "ipython3",
   "version": "3.7.13"
  }
 },
 "nbformat": 4,
 "nbformat_minor": 5
}
